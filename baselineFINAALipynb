{
 "cells": [
  {
   "cell_type": "code",
   "execution_count": 1,
   "id": "3c3e0bbc-de60-43c1-be0e-d158f4cbde35",
   "metadata": {},
   "outputs": [],
   "source": [
    "import os\n",
    "os.environ[\"TF_CPP_MIN_LOG_LEVEL\"] = \"3\"\n",
    "os.environ[\"CUDA_VISIBLE_DEVICES\"] = \"-1\"\n",
    "import tensorflow as tf\n",
    "\n",
    "from tensorflow.keras.models import Sequential\n",
    "from tensorflow.keras.layers import Rescaling, RandomFlip, RandomRotation, RandomTranslation, RandomZoom\n",
    "from tensorflow.keras.layers import Dense, Conv2D, Flatten, Dropout, MaxPooling2D, Input, BatchNormalization\n",
    "from tensorflow.keras.preprocessing.image import ImageDataGenerator\n",
    "from sklearn.metrics import confusion_matrix, ConfusionMatrixDisplay\n",
    "\n",
    "import os\n",
    "import numpy as np\n",
    "import matplotlib.pyplot as plt\n",
    "import pathlib\n",
    "\n",
    "import functions_ai"
   ]
  },
  {
   "cell_type": "code",
   "execution_count": 2,
   "id": "b11bf15d-8ea5-481d-81c5-7dd7ba408633",
   "metadata": {},
   "outputs": [],
   "source": [
    "from sklearn.metrics import confusion_matrix, ConfusionMatrixDisplay"
   ]
  },
  {
   "cell_type": "markdown",
   "id": "c6224982-4af7-48e5-b6c4-eba0cd68aba0",
   "metadata": {},
   "source": [
    "## 1) Setup "
   ]
  },
  {
   "cell_type": "code",
   "execution_count": 3,
   "id": "586b1923-5672-4b92-9a62-0c29db094af8",
   "metadata": {},
   "outputs": [],
   "source": [
    "metrics = [\n",
    "        tf.keras.metrics.BinaryAccuracy(name='accuracy'),\n",
    "        tf.keras.metrics.Precision(name='precision'),\n",
    "        tf.keras.metrics.Recall(name='recall'),\n",
    "        tf.keras.metrics.AUC(name='auc')] #verschillende metrics vergelijken\n",
    "\n",
    "# Set random seed\n",
    "np.random.seed(42)\n",
    "tf.random.set_seed(42)"
   ]
  },
  {
   "cell_type": "markdown",
   "id": "d4c34a2b-cfcd-403b-9915-2e53a2006f28",
   "metadata": {},
   "source": [
    "## 2) Build initial model"
   ]
  },
  {
   "cell_type": "code",
   "execution_count": 4,
   "id": "83099be1-61f4-442a-9e31-c6f4b1eb2947",
   "metadata": {},
   "outputs": [],
   "source": [
    "custom_preprocessing = functions_ai.custom_preprocessing\n",
    "batch_size = 128\n",
    "img_height = img_width = 128\n",
    "\n",
    "#set the paths/directories\n",
    "path = pathlib.Path('covid xray')\n",
    "train_dir = os.path.join(path, 'train') \n",
    "validation_dir = os.path.join(path, 'val')\n",
    "test_dir = os.path.join(path, 'test')\n",
    "\n",
    "train_covid_dir = os.path.join(train_dir, 'COVID')\n",
    "train_normal_dir = os.path.join(train_dir, 'NORMAL')\n",
    "\n",
    "validation_covid_dir = os.path.join(validation_dir, 'COVID')\n",
    "validation_normal_dir = os.path.join(validation_dir, 'NORMAL')\n",
    "\n",
    "test_covid_dir = os.path.join(test_dir, 'COVID')\n",
    "test_normal_dir = os.path.join(test_dir, 'NORMAL')\n",
    "\n",
    "#print(train_dir)"
   ]
  },
  {
   "cell_type": "code",
   "execution_count": 5,
   "id": "f74e54f3-e505-4b80-8e12-654d48657b9d",
   "metadata": {},
   "outputs": [],
   "source": [
    "def custom_preprocessing(img): #implemntation in ImageDataGenerator \n",
    "    return (img - mean) / std"
   ]
  },
  {
   "cell_type": "markdown",
   "id": "094178ad-ef0c-4e9e-be58-9319d5c64c79",
   "metadata": {},
   "source": [
    "#### In task 2 we use image_dataset_from_directory instead of ImageDataGenerator, so datasets can be concatenated"
   ]
  },
  {
   "cell_type": "code",
   "execution_count": 6,
   "id": "51a79ca3-f51d-40e6-888d-ea9b9c2fb3e1",
   "metadata": {},
   "outputs": [
    {
     "name": "stdout",
     "output_type": "stream",
     "text": [
      "Found 1600 files belonging to 2 classes.\n",
      "Found 400 files belonging to 2 classes.\n",
      "Found 200 files belonging to 2 classes.\n"
     ]
    }
   ],
   "source": [
    "# Load training dataset\n",
    "train_data_gen = tf.keras.utils.image_dataset_from_directory(\n",
    "    directory=train_dir,\n",
    "    label_mode='binary',\n",
    "    batch_size=batch_size,\n",
    "    image_size=(img_height, img_width),\n",
    "    shuffle=True\n",
    ")\n",
    "\n",
    "# Load validation dataset\n",
    "val_data_gen = tf.keras.utils.image_dataset_from_directory(\n",
    "    directory=validation_dir,\n",
    "    label_mode='binary',\n",
    "    batch_size=batch_size,\n",
    "    image_size=(img_height, img_width),\n",
    "    shuffle=False\n",
    ")\n",
    "\n",
    "# Load test dataset\n",
    "test_data_gen = tf.keras.utils.image_dataset_from_directory(\n",
    "    directory=test_dir,\n",
    "    labels='inferred',\n",
    "    label_mode='binary',\n",
    "    batch_size=batch_size,\n",
    "    image_size=(img_height, img_width),\n",
    "    shuffle=False\n",
    ")\n"
   ]
  },
  {
   "cell_type": "code",
   "execution_count": 7,
   "id": "49669ce3-8920-4ca8-9bf8-6666a03abdde",
   "metadata": {},
   "outputs": [],
   "source": [
    "mean, std = 0.11728907, 0.3424749\n",
    "def custom_preprocessing(image):\n",
    "   return (image - mean) / std"
   ]
  },
  {
   "cell_type": "code",
   "execution_count": 8,
   "id": "4ba5fd92-668b-41d9-898a-3f56fd5d875f",
   "metadata": {},
   "outputs": [],
   "source": [
    "train_data_gen = train_data_gen.map(lambda x, y: (custom_preprocessing(x), y))\n",
    "val_data_gen = val_data_gen.map(lambda x, y: (custom_preprocessing(x), y))\n",
    "test_data_gen = test_data_gen.map(lambda x, y: (custom_preprocessing(x), y))"
   ]
  },
  {
   "cell_type": "code",
   "execution_count": 9,
   "id": "c266c981-e897-45b5-8cbe-e235a650bbe0",
   "metadata": {},
   "outputs": [],
   "source": [
    "rescale = Rescaling(1 / 255)"
   ]
  },
  {
   "cell_type": "code",
   "execution_count": 11,
   "id": "e138e43c-fb4d-4c60-90b5-f066da5e4095",
   "metadata": {},
   "outputs": [],
   "source": [
    "def preprocess_image(transform):\n",
    "    \n",
    "    def _preprocess(image, label):\n",
    "        return transform(image), label\n",
    "        \n",
    "    return _preprocess"
   ]
  },
  {
   "cell_type": "code",
   "execution_count": 12,
   "id": "be322f90-6760-490f-b86d-cfe60de97f7b",
   "metadata": {},
   "outputs": [],
   "source": [
    "train_data_preproc = train_data_gen.map(preprocess_image(rescale))\n",
    "val_data_preproc = val_data_gen.map(preprocess_image(rescale))"
   ]
  },
  {
   "cell_type": "code",
   "execution_count": 13,
   "id": "a2868784-f8a8-4e14-ac97-c28408902392",
   "metadata": {},
   "outputs": [],
   "source": [
    "train_data_preproc = train_data_preproc.cache()\n",
    "val_data_preproc = val_data_preproc.cache()"
   ]
  },
  {
   "cell_type": "markdown",
   "id": "084e6a34-0f61-4f7d-8b7c-0c2b1d9a2cd3",
   "metadata": {},
   "source": [
    "### Defining the model"
   ]
  },
  {
   "cell_type": "code",
   "execution_count": 14,
   "id": "22ab05a5-d952-4bc5-8104-410a055d26b6",
   "metadata": {},
   "outputs": [],
   "source": [
    "#augmentation:\n",
    "flip =  RandomFlip(\"horizontal\")\n",
    "rotate = RandomRotation((-0.125, 0.125))\n",
    "translate = RandomTranslation(height_factor=0.15, width_factor=0.15)\n",
    "zoom = RandomZoom(0.5)"
   ]
  },
  {
   "cell_type": "code",
   "execution_count": 15,
   "id": "d2b84ef5-5026-41fc-9c46-71480359a0bc",
   "metadata": {},
   "outputs": [],
   "source": [
    "#model with dropout and augmentation \n",
    "model = Sequential([\n",
    "    Input(shape=(img_height, img_width, 3)),\n",
    "    flip,\n",
    "    rotate, \n",
    "    translate,\n",
    "    zoom,\n",
    "    Conv2D(16, 3, padding='same', activation='relu'), \n",
    "    \n",
    "    BatchNormalization(),\n",
    "    MaxPooling2D(),\n",
    "    Dropout(0.1), \n",
    "    \n",
    "    Conv2D(32, 3, padding='same', activation='relu'),\n",
    "    BatchNormalization(),\n",
    "    MaxPooling2D(),\n",
    "    \n",
    "    Conv2D(64, 3, padding='same', activation='relu'),\n",
    "    BatchNormalization(),\n",
    "    MaxPooling2D(),\n",
    "    Dropout(0.2), #somewhat more severe dropout\n",
    "    \n",
    "    Flatten(),\n",
    "    Dense(512, activation='relu'), #in dense layers dropout of 0.5, in general more dropout at end bcs more prone to overfitting (more abstract features learned at end)\n",
    "    Dropout(0.5),\n",
    "    Dense(1, activation='sigmoid')\n",
    "])\n"
   ]
  },
  {
   "cell_type": "code",
   "execution_count": 16,
   "id": "538a0e1b-7540-4bd0-a544-f8f5e248ea31",
   "metadata": {},
   "outputs": [
    {
     "data": {
      "text/html": [
       "<pre style=\"white-space:pre;overflow-x:auto;line-height:normal;font-family:Menlo,'DejaVu Sans Mono',consolas,'Courier New',monospace\"><span style=\"font-weight: bold\">Model: \"sequential\"</span>\n",
       "</pre>\n"
      ],
      "text/plain": [
       "\u001b[1mModel: \"sequential\"\u001b[0m\n"
      ]
     },
     "metadata": {},
     "output_type": "display_data"
    },
    {
     "data": {
      "text/html": [
       "<pre style=\"white-space:pre;overflow-x:auto;line-height:normal;font-family:Menlo,'DejaVu Sans Mono',consolas,'Courier New',monospace\">┏━━━━━━━━━━━━━━━━━━━━━━━━━━━━━━━━━┳━━━━━━━━━━━━━━━━━━━━━━━━┳━━━━━━━━━━━━━━━┓\n",
       "┃<span style=\"font-weight: bold\"> Layer (type)                    </span>┃<span style=\"font-weight: bold\"> Output Shape           </span>┃<span style=\"font-weight: bold\">       Param # </span>┃\n",
       "┡━━━━━━━━━━━━━━━━━━━━━━━━━━━━━━━━━╇━━━━━━━━━━━━━━━━━━━━━━━━╇━━━━━━━━━━━━━━━┩\n",
       "│ random_flip (<span style=\"color: #0087ff; text-decoration-color: #0087ff\">RandomFlip</span>)        │ (<span style=\"color: #00d7ff; text-decoration-color: #00d7ff\">None</span>, <span style=\"color: #00af00; text-decoration-color: #00af00\">128</span>, <span style=\"color: #00af00; text-decoration-color: #00af00\">128</span>, <span style=\"color: #00af00; text-decoration-color: #00af00\">3</span>)    │             <span style=\"color: #00af00; text-decoration-color: #00af00\">0</span> │\n",
       "├─────────────────────────────────┼────────────────────────┼───────────────┤\n",
       "│ random_rotation                 │ (<span style=\"color: #00d7ff; text-decoration-color: #00d7ff\">None</span>, <span style=\"color: #00af00; text-decoration-color: #00af00\">128</span>, <span style=\"color: #00af00; text-decoration-color: #00af00\">128</span>, <span style=\"color: #00af00; text-decoration-color: #00af00\">3</span>)    │             <span style=\"color: #00af00; text-decoration-color: #00af00\">0</span> │\n",
       "│ (<span style=\"color: #0087ff; text-decoration-color: #0087ff\">RandomRotation</span>)                │                        │               │\n",
       "├─────────────────────────────────┼────────────────────────┼───────────────┤\n",
       "│ random_translation              │ (<span style=\"color: #00d7ff; text-decoration-color: #00d7ff\">None</span>, <span style=\"color: #00af00; text-decoration-color: #00af00\">128</span>, <span style=\"color: #00af00; text-decoration-color: #00af00\">128</span>, <span style=\"color: #00af00; text-decoration-color: #00af00\">3</span>)    │             <span style=\"color: #00af00; text-decoration-color: #00af00\">0</span> │\n",
       "│ (<span style=\"color: #0087ff; text-decoration-color: #0087ff\">RandomTranslation</span>)             │                        │               │\n",
       "├─────────────────────────────────┼────────────────────────┼───────────────┤\n",
       "│ random_zoom (<span style=\"color: #0087ff; text-decoration-color: #0087ff\">RandomZoom</span>)        │ (<span style=\"color: #00d7ff; text-decoration-color: #00d7ff\">None</span>, <span style=\"color: #00af00; text-decoration-color: #00af00\">128</span>, <span style=\"color: #00af00; text-decoration-color: #00af00\">128</span>, <span style=\"color: #00af00; text-decoration-color: #00af00\">3</span>)    │             <span style=\"color: #00af00; text-decoration-color: #00af00\">0</span> │\n",
       "├─────────────────────────────────┼────────────────────────┼───────────────┤\n",
       "│ conv2d (<span style=\"color: #0087ff; text-decoration-color: #0087ff\">Conv2D</span>)                 │ (<span style=\"color: #00d7ff; text-decoration-color: #00d7ff\">None</span>, <span style=\"color: #00af00; text-decoration-color: #00af00\">128</span>, <span style=\"color: #00af00; text-decoration-color: #00af00\">128</span>, <span style=\"color: #00af00; text-decoration-color: #00af00\">16</span>)   │           <span style=\"color: #00af00; text-decoration-color: #00af00\">448</span> │\n",
       "├─────────────────────────────────┼────────────────────────┼───────────────┤\n",
       "│ batch_normalization             │ (<span style=\"color: #00d7ff; text-decoration-color: #00d7ff\">None</span>, <span style=\"color: #00af00; text-decoration-color: #00af00\">128</span>, <span style=\"color: #00af00; text-decoration-color: #00af00\">128</span>, <span style=\"color: #00af00; text-decoration-color: #00af00\">16</span>)   │            <span style=\"color: #00af00; text-decoration-color: #00af00\">64</span> │\n",
       "│ (<span style=\"color: #0087ff; text-decoration-color: #0087ff\">BatchNormalization</span>)            │                        │               │\n",
       "├─────────────────────────────────┼────────────────────────┼───────────────┤\n",
       "│ max_pooling2d (<span style=\"color: #0087ff; text-decoration-color: #0087ff\">MaxPooling2D</span>)    │ (<span style=\"color: #00d7ff; text-decoration-color: #00d7ff\">None</span>, <span style=\"color: #00af00; text-decoration-color: #00af00\">64</span>, <span style=\"color: #00af00; text-decoration-color: #00af00\">64</span>, <span style=\"color: #00af00; text-decoration-color: #00af00\">16</span>)     │             <span style=\"color: #00af00; text-decoration-color: #00af00\">0</span> │\n",
       "├─────────────────────────────────┼────────────────────────┼───────────────┤\n",
       "│ dropout (<span style=\"color: #0087ff; text-decoration-color: #0087ff\">Dropout</span>)               │ (<span style=\"color: #00d7ff; text-decoration-color: #00d7ff\">None</span>, <span style=\"color: #00af00; text-decoration-color: #00af00\">64</span>, <span style=\"color: #00af00; text-decoration-color: #00af00\">64</span>, <span style=\"color: #00af00; text-decoration-color: #00af00\">16</span>)     │             <span style=\"color: #00af00; text-decoration-color: #00af00\">0</span> │\n",
       "├─────────────────────────────────┼────────────────────────┼───────────────┤\n",
       "│ conv2d_1 (<span style=\"color: #0087ff; text-decoration-color: #0087ff\">Conv2D</span>)               │ (<span style=\"color: #00d7ff; text-decoration-color: #00d7ff\">None</span>, <span style=\"color: #00af00; text-decoration-color: #00af00\">64</span>, <span style=\"color: #00af00; text-decoration-color: #00af00\">64</span>, <span style=\"color: #00af00; text-decoration-color: #00af00\">32</span>)     │         <span style=\"color: #00af00; text-decoration-color: #00af00\">4,640</span> │\n",
       "├─────────────────────────────────┼────────────────────────┼───────────────┤\n",
       "│ batch_normalization_1           │ (<span style=\"color: #00d7ff; text-decoration-color: #00d7ff\">None</span>, <span style=\"color: #00af00; text-decoration-color: #00af00\">64</span>, <span style=\"color: #00af00; text-decoration-color: #00af00\">64</span>, <span style=\"color: #00af00; text-decoration-color: #00af00\">32</span>)     │           <span style=\"color: #00af00; text-decoration-color: #00af00\">128</span> │\n",
       "│ (<span style=\"color: #0087ff; text-decoration-color: #0087ff\">BatchNormalization</span>)            │                        │               │\n",
       "├─────────────────────────────────┼────────────────────────┼───────────────┤\n",
       "│ max_pooling2d_1 (<span style=\"color: #0087ff; text-decoration-color: #0087ff\">MaxPooling2D</span>)  │ (<span style=\"color: #00d7ff; text-decoration-color: #00d7ff\">None</span>, <span style=\"color: #00af00; text-decoration-color: #00af00\">32</span>, <span style=\"color: #00af00; text-decoration-color: #00af00\">32</span>, <span style=\"color: #00af00; text-decoration-color: #00af00\">32</span>)     │             <span style=\"color: #00af00; text-decoration-color: #00af00\">0</span> │\n",
       "├─────────────────────────────────┼────────────────────────┼───────────────┤\n",
       "│ conv2d_2 (<span style=\"color: #0087ff; text-decoration-color: #0087ff\">Conv2D</span>)               │ (<span style=\"color: #00d7ff; text-decoration-color: #00d7ff\">None</span>, <span style=\"color: #00af00; text-decoration-color: #00af00\">32</span>, <span style=\"color: #00af00; text-decoration-color: #00af00\">32</span>, <span style=\"color: #00af00; text-decoration-color: #00af00\">64</span>)     │        <span style=\"color: #00af00; text-decoration-color: #00af00\">18,496</span> │\n",
       "├─────────────────────────────────┼────────────────────────┼───────────────┤\n",
       "│ batch_normalization_2           │ (<span style=\"color: #00d7ff; text-decoration-color: #00d7ff\">None</span>, <span style=\"color: #00af00; text-decoration-color: #00af00\">32</span>, <span style=\"color: #00af00; text-decoration-color: #00af00\">32</span>, <span style=\"color: #00af00; text-decoration-color: #00af00\">64</span>)     │           <span style=\"color: #00af00; text-decoration-color: #00af00\">256</span> │\n",
       "│ (<span style=\"color: #0087ff; text-decoration-color: #0087ff\">BatchNormalization</span>)            │                        │               │\n",
       "├─────────────────────────────────┼────────────────────────┼───────────────┤\n",
       "│ max_pooling2d_2 (<span style=\"color: #0087ff; text-decoration-color: #0087ff\">MaxPooling2D</span>)  │ (<span style=\"color: #00d7ff; text-decoration-color: #00d7ff\">None</span>, <span style=\"color: #00af00; text-decoration-color: #00af00\">16</span>, <span style=\"color: #00af00; text-decoration-color: #00af00\">16</span>, <span style=\"color: #00af00; text-decoration-color: #00af00\">64</span>)     │             <span style=\"color: #00af00; text-decoration-color: #00af00\">0</span> │\n",
       "├─────────────────────────────────┼────────────────────────┼───────────────┤\n",
       "│ dropout_1 (<span style=\"color: #0087ff; text-decoration-color: #0087ff\">Dropout</span>)             │ (<span style=\"color: #00d7ff; text-decoration-color: #00d7ff\">None</span>, <span style=\"color: #00af00; text-decoration-color: #00af00\">16</span>, <span style=\"color: #00af00; text-decoration-color: #00af00\">16</span>, <span style=\"color: #00af00; text-decoration-color: #00af00\">64</span>)     │             <span style=\"color: #00af00; text-decoration-color: #00af00\">0</span> │\n",
       "├─────────────────────────────────┼────────────────────────┼───────────────┤\n",
       "│ flatten (<span style=\"color: #0087ff; text-decoration-color: #0087ff\">Flatten</span>)               │ (<span style=\"color: #00d7ff; text-decoration-color: #00d7ff\">None</span>, <span style=\"color: #00af00; text-decoration-color: #00af00\">16384</span>)          │             <span style=\"color: #00af00; text-decoration-color: #00af00\">0</span> │\n",
       "├─────────────────────────────────┼────────────────────────┼───────────────┤\n",
       "│ dense (<span style=\"color: #0087ff; text-decoration-color: #0087ff\">Dense</span>)                   │ (<span style=\"color: #00d7ff; text-decoration-color: #00d7ff\">None</span>, <span style=\"color: #00af00; text-decoration-color: #00af00\">512</span>)            │     <span style=\"color: #00af00; text-decoration-color: #00af00\">8,389,120</span> │\n",
       "├─────────────────────────────────┼────────────────────────┼───────────────┤\n",
       "│ dropout_2 (<span style=\"color: #0087ff; text-decoration-color: #0087ff\">Dropout</span>)             │ (<span style=\"color: #00d7ff; text-decoration-color: #00d7ff\">None</span>, <span style=\"color: #00af00; text-decoration-color: #00af00\">512</span>)            │             <span style=\"color: #00af00; text-decoration-color: #00af00\">0</span> │\n",
       "├─────────────────────────────────┼────────────────────────┼───────────────┤\n",
       "│ dense_1 (<span style=\"color: #0087ff; text-decoration-color: #0087ff\">Dense</span>)                 │ (<span style=\"color: #00d7ff; text-decoration-color: #00d7ff\">None</span>, <span style=\"color: #00af00; text-decoration-color: #00af00\">1</span>)              │           <span style=\"color: #00af00; text-decoration-color: #00af00\">513</span> │\n",
       "└─────────────────────────────────┴────────────────────────┴───────────────┘\n",
       "</pre>\n"
      ],
      "text/plain": [
       "┏━━━━━━━━━━━━━━━━━━━━━━━━━━━━━━━━━┳━━━━━━━━━━━━━━━━━━━━━━━━┳━━━━━━━━━━━━━━━┓\n",
       "┃\u001b[1m \u001b[0m\u001b[1mLayer (type)                   \u001b[0m\u001b[1m \u001b[0m┃\u001b[1m \u001b[0m\u001b[1mOutput Shape          \u001b[0m\u001b[1m \u001b[0m┃\u001b[1m \u001b[0m\u001b[1m      Param #\u001b[0m\u001b[1m \u001b[0m┃\n",
       "┡━━━━━━━━━━━━━━━━━━━━━━━━━━━━━━━━━╇━━━━━━━━━━━━━━━━━━━━━━━━╇━━━━━━━━━━━━━━━┩\n",
       "│ random_flip (\u001b[38;5;33mRandomFlip\u001b[0m)        │ (\u001b[38;5;45mNone\u001b[0m, \u001b[38;5;34m128\u001b[0m, \u001b[38;5;34m128\u001b[0m, \u001b[38;5;34m3\u001b[0m)    │             \u001b[38;5;34m0\u001b[0m │\n",
       "├─────────────────────────────────┼────────────────────────┼───────────────┤\n",
       "│ random_rotation                 │ (\u001b[38;5;45mNone\u001b[0m, \u001b[38;5;34m128\u001b[0m, \u001b[38;5;34m128\u001b[0m, \u001b[38;5;34m3\u001b[0m)    │             \u001b[38;5;34m0\u001b[0m │\n",
       "│ (\u001b[38;5;33mRandomRotation\u001b[0m)                │                        │               │\n",
       "├─────────────────────────────────┼────────────────────────┼───────────────┤\n",
       "│ random_translation              │ (\u001b[38;5;45mNone\u001b[0m, \u001b[38;5;34m128\u001b[0m, \u001b[38;5;34m128\u001b[0m, \u001b[38;5;34m3\u001b[0m)    │             \u001b[38;5;34m0\u001b[0m │\n",
       "│ (\u001b[38;5;33mRandomTranslation\u001b[0m)             │                        │               │\n",
       "├─────────────────────────────────┼────────────────────────┼───────────────┤\n",
       "│ random_zoom (\u001b[38;5;33mRandomZoom\u001b[0m)        │ (\u001b[38;5;45mNone\u001b[0m, \u001b[38;5;34m128\u001b[0m, \u001b[38;5;34m128\u001b[0m, \u001b[38;5;34m3\u001b[0m)    │             \u001b[38;5;34m0\u001b[0m │\n",
       "├─────────────────────────────────┼────────────────────────┼───────────────┤\n",
       "│ conv2d (\u001b[38;5;33mConv2D\u001b[0m)                 │ (\u001b[38;5;45mNone\u001b[0m, \u001b[38;5;34m128\u001b[0m, \u001b[38;5;34m128\u001b[0m, \u001b[38;5;34m16\u001b[0m)   │           \u001b[38;5;34m448\u001b[0m │\n",
       "├─────────────────────────────────┼────────────────────────┼───────────────┤\n",
       "│ batch_normalization             │ (\u001b[38;5;45mNone\u001b[0m, \u001b[38;5;34m128\u001b[0m, \u001b[38;5;34m128\u001b[0m, \u001b[38;5;34m16\u001b[0m)   │            \u001b[38;5;34m64\u001b[0m │\n",
       "│ (\u001b[38;5;33mBatchNormalization\u001b[0m)            │                        │               │\n",
       "├─────────────────────────────────┼────────────────────────┼───────────────┤\n",
       "│ max_pooling2d (\u001b[38;5;33mMaxPooling2D\u001b[0m)    │ (\u001b[38;5;45mNone\u001b[0m, \u001b[38;5;34m64\u001b[0m, \u001b[38;5;34m64\u001b[0m, \u001b[38;5;34m16\u001b[0m)     │             \u001b[38;5;34m0\u001b[0m │\n",
       "├─────────────────────────────────┼────────────────────────┼───────────────┤\n",
       "│ dropout (\u001b[38;5;33mDropout\u001b[0m)               │ (\u001b[38;5;45mNone\u001b[0m, \u001b[38;5;34m64\u001b[0m, \u001b[38;5;34m64\u001b[0m, \u001b[38;5;34m16\u001b[0m)     │             \u001b[38;5;34m0\u001b[0m │\n",
       "├─────────────────────────────────┼────────────────────────┼───────────────┤\n",
       "│ conv2d_1 (\u001b[38;5;33mConv2D\u001b[0m)               │ (\u001b[38;5;45mNone\u001b[0m, \u001b[38;5;34m64\u001b[0m, \u001b[38;5;34m64\u001b[0m, \u001b[38;5;34m32\u001b[0m)     │         \u001b[38;5;34m4,640\u001b[0m │\n",
       "├─────────────────────────────────┼────────────────────────┼───────────────┤\n",
       "│ batch_normalization_1           │ (\u001b[38;5;45mNone\u001b[0m, \u001b[38;5;34m64\u001b[0m, \u001b[38;5;34m64\u001b[0m, \u001b[38;5;34m32\u001b[0m)     │           \u001b[38;5;34m128\u001b[0m │\n",
       "│ (\u001b[38;5;33mBatchNormalization\u001b[0m)            │                        │               │\n",
       "├─────────────────────────────────┼────────────────────────┼───────────────┤\n",
       "│ max_pooling2d_1 (\u001b[38;5;33mMaxPooling2D\u001b[0m)  │ (\u001b[38;5;45mNone\u001b[0m, \u001b[38;5;34m32\u001b[0m, \u001b[38;5;34m32\u001b[0m, \u001b[38;5;34m32\u001b[0m)     │             \u001b[38;5;34m0\u001b[0m │\n",
       "├─────────────────────────────────┼────────────────────────┼───────────────┤\n",
       "│ conv2d_2 (\u001b[38;5;33mConv2D\u001b[0m)               │ (\u001b[38;5;45mNone\u001b[0m, \u001b[38;5;34m32\u001b[0m, \u001b[38;5;34m32\u001b[0m, \u001b[38;5;34m64\u001b[0m)     │        \u001b[38;5;34m18,496\u001b[0m │\n",
       "├─────────────────────────────────┼────────────────────────┼───────────────┤\n",
       "│ batch_normalization_2           │ (\u001b[38;5;45mNone\u001b[0m, \u001b[38;5;34m32\u001b[0m, \u001b[38;5;34m32\u001b[0m, \u001b[38;5;34m64\u001b[0m)     │           \u001b[38;5;34m256\u001b[0m │\n",
       "│ (\u001b[38;5;33mBatchNormalization\u001b[0m)            │                        │               │\n",
       "├─────────────────────────────────┼────────────────────────┼───────────────┤\n",
       "│ max_pooling2d_2 (\u001b[38;5;33mMaxPooling2D\u001b[0m)  │ (\u001b[38;5;45mNone\u001b[0m, \u001b[38;5;34m16\u001b[0m, \u001b[38;5;34m16\u001b[0m, \u001b[38;5;34m64\u001b[0m)     │             \u001b[38;5;34m0\u001b[0m │\n",
       "├─────────────────────────────────┼────────────────────────┼───────────────┤\n",
       "│ dropout_1 (\u001b[38;5;33mDropout\u001b[0m)             │ (\u001b[38;5;45mNone\u001b[0m, \u001b[38;5;34m16\u001b[0m, \u001b[38;5;34m16\u001b[0m, \u001b[38;5;34m64\u001b[0m)     │             \u001b[38;5;34m0\u001b[0m │\n",
       "├─────────────────────────────────┼────────────────────────┼───────────────┤\n",
       "│ flatten (\u001b[38;5;33mFlatten\u001b[0m)               │ (\u001b[38;5;45mNone\u001b[0m, \u001b[38;5;34m16384\u001b[0m)          │             \u001b[38;5;34m0\u001b[0m │\n",
       "├─────────────────────────────────┼────────────────────────┼───────────────┤\n",
       "│ dense (\u001b[38;5;33mDense\u001b[0m)                   │ (\u001b[38;5;45mNone\u001b[0m, \u001b[38;5;34m512\u001b[0m)            │     \u001b[38;5;34m8,389,120\u001b[0m │\n",
       "├─────────────────────────────────┼────────────────────────┼───────────────┤\n",
       "│ dropout_2 (\u001b[38;5;33mDropout\u001b[0m)             │ (\u001b[38;5;45mNone\u001b[0m, \u001b[38;5;34m512\u001b[0m)            │             \u001b[38;5;34m0\u001b[0m │\n",
       "├─────────────────────────────────┼────────────────────────┼───────────────┤\n",
       "│ dense_1 (\u001b[38;5;33mDense\u001b[0m)                 │ (\u001b[38;5;45mNone\u001b[0m, \u001b[38;5;34m1\u001b[0m)              │           \u001b[38;5;34m513\u001b[0m │\n",
       "└─────────────────────────────────┴────────────────────────┴───────────────┘\n"
      ]
     },
     "metadata": {},
     "output_type": "display_data"
    },
    {
     "data": {
      "text/html": [
       "<pre style=\"white-space:pre;overflow-x:auto;line-height:normal;font-family:Menlo,'DejaVu Sans Mono',consolas,'Courier New',monospace\"><span style=\"font-weight: bold\"> Total params: </span><span style=\"color: #00af00; text-decoration-color: #00af00\">8,413,665</span> (32.10 MB)\n",
       "</pre>\n"
      ],
      "text/plain": [
       "\u001b[1m Total params: \u001b[0m\u001b[38;5;34m8,413,665\u001b[0m (32.10 MB)\n"
      ]
     },
     "metadata": {},
     "output_type": "display_data"
    },
    {
     "data": {
      "text/html": [
       "<pre style=\"white-space:pre;overflow-x:auto;line-height:normal;font-family:Menlo,'DejaVu Sans Mono',consolas,'Courier New',monospace\"><span style=\"font-weight: bold\"> Trainable params: </span><span style=\"color: #00af00; text-decoration-color: #00af00\">8,413,441</span> (32.09 MB)\n",
       "</pre>\n"
      ],
      "text/plain": [
       "\u001b[1m Trainable params: \u001b[0m\u001b[38;5;34m8,413,441\u001b[0m (32.09 MB)\n"
      ]
     },
     "metadata": {},
     "output_type": "display_data"
    },
    {
     "data": {
      "text/html": [
       "<pre style=\"white-space:pre;overflow-x:auto;line-height:normal;font-family:Menlo,'DejaVu Sans Mono',consolas,'Courier New',monospace\"><span style=\"font-weight: bold\"> Non-trainable params: </span><span style=\"color: #00af00; text-decoration-color: #00af00\">224</span> (896.00 B)\n",
       "</pre>\n"
      ],
      "text/plain": [
       "\u001b[1m Non-trainable params: \u001b[0m\u001b[38;5;34m224\u001b[0m (896.00 B)\n"
      ]
     },
     "metadata": {},
     "output_type": "display_data"
    }
   ],
   "source": [
    "model.summary()"
   ]
  },
  {
   "cell_type": "markdown",
   "id": "de662047-cd7e-4259-88df-fa7eb4ed539c",
   "metadata": {},
   "source": [
    "## 3) Train your model"
   ]
  },
  {
   "cell_type": "code",
   "execution_count": 18,
   "id": "af1dac78-495d-4ffb-b59c-34a50716c0ae",
   "metadata": {},
   "outputs": [],
   "source": [
    "#choose loss function binary cross entropy\n",
    "from tensorflow.keras.optimizers import Adam\n",
    "learning_rate = 0.001\n",
    "adam = Adam(learning_rate=learning_rate)\n",
    "\n",
    "model.compile(\n",
    "    optimizer=adam,\n",
    "    loss=tf.keras.losses.BinaryCrossentropy(),\n",
    "    metrics=metrics\n",
    ")\n"
   ]
  },
  {
   "cell_type": "code",
   "execution_count": null,
   "id": "57726c65-64ba-4218-9a01-45ea3b2d67de",
   "metadata": {},
   "outputs": [
    {
     "name": "stdout",
     "output_type": "stream",
     "text": [
      "Epoch 1/30\n",
      "\u001b[1m 2/13\u001b[0m \u001b[32m━━━\u001b[0m\u001b[37m━━━━━━━━━━━━━━━━━\u001b[0m \u001b[1m17s\u001b[0m 2s/step - accuracy: 0.8066 - auc: 0.8958 - loss: 0.4115 - precision: 0.8667 - recall: 0.7472"
     ]
    }
   ],
   "source": [
    "history = model.fit(\n",
    "    train_data_preproc,\n",
    "    validation_data=val_data_preproc, \n",
    "    epochs=30,\n",
    "    verbose = 1\n",
    ")"
   ]
  },
  {
   "cell_type": "code",
   "execution_count": 22,
   "id": "ff2cb693-79e3-4a47-a026-e7fa33147420",
   "metadata": {},
   "outputs": [
    {
     "data": {
      "image/png": "[encoded data removed]",
      "text/plain": [
       "<Figure size 1400x800 with 2 Axes>"
      ]
     },
     "metadata": {},
     "output_type": "display_data"
    }
   ],
   "source": [
    "def plot_history(history):\n",
    "    acc = history.history['accuracy']\n",
    "    val_acc = history.history['val_accuracy']\n",
    "    \n",
    "    loss=history.history['loss']\n",
    "    val_loss=history.history['val_loss']\n",
    "    \n",
    "    plt.figure(figsize=(14, 8))\n",
    "    plt.subplot(1, 2, 1)\n",
    "    plt.plot(acc, label='Training Accuracy')\n",
    "    plt.plot(val_acc, label='Validation Accuracy')\n",
    "    plt.legend(loc='lower right')\n",
    "    plt.title('Training and Validation Accuracy')\n",
    "    \n",
    "    plt.subplot(1, 2, 2)\n",
    "    plt.plot(loss, label='Training Loss')\n",
    "    plt.plot(val_loss, label='Validation Loss')\n",
    "    plt.legend(loc='upper right')\n",
    "    plt.title('Training and Validation Loss')\n",
    "    plt.show()\n",
    "\n",
    "plot_history(history)\n"
   ]
  },
  {
   "cell_type": "markdown",
   "id": "01b4cce3-a070-4906-ae7a-01ba638ea86a",
   "metadata": {},
   "source": [
    "## 4) Hyperparameter tuning"
   ]
  },
  {
   "cell_type": "markdown",
   "id": "13e6ea09-2b0d-4c03-922d-5f4e8476e70f",
   "metadata": {},
   "source": [
    "### Implement early stopping"
   ]
  },
  {
   "cell_type": "markdown",
   "id": "a0f7ed57-fd50-440b-a5d2-f3eda9043fe4",
   "metadata": {},
   "source": [
    "### parameter search to tune your model"
   ]
  },
  {
   "cell_type": "code",
   "execution_count": 23,
   "id": "ea400b99-c04e-40cf-ab3b-a5cf260f43b6",
   "metadata": {},
   "outputs": [],
   "source": [
    "def build_model(optimizer,filters=(16, 32, 64), dropout1=0.1, dropout2=0.2, dropout3=0.5, learning_rate=0.001):\n",
    "    model = Sequential([\n",
    "        Input(shape=(img_height, img_width, 3)),\n",
    "        flip,\n",
    "        rotate, \n",
    "        translate,\n",
    "        zoom,\n",
    "        Conv2D(16, 3, padding='same', activation='relu'), #remark: still debate over ReLu -> BN (theoretical) / BN -> ReLu (in practice) [both used]\n",
    "        BatchNormalization(),\n",
    "        MaxPooling2D(),\n",
    "        Dropout(0.1), #dont 'kill' important features (in beginning most low levels features are learned)\n",
    "        \n",
    "        Conv2D(32, 3, padding='same', activation='relu'),\n",
    "        BatchNormalization(),\n",
    "        MaxPooling2D(),\n",
    "        \n",
    "        Conv2D(64, 3, padding='same', activation='relu'),\n",
    "        BatchNormalization(),\n",
    "        MaxPooling2D(),\n",
    "        Dropout(0.2), #somewhat more severe dropout\n",
    "        \n",
    "        Flatten(),\n",
    "        Dense(512, activation='relu'), #in dense layers dropout of 0.5, in general more dropout at end bcs more prone to overfitting (more abstract features learned at end)\n",
    "        Dropout(0.5),\n",
    "        Dense(1, activation='sigmoid')\n",
    "    ])\n",
    "\n",
    "    # optimizer\n",
    "    if opt == 'adam':\n",
    "        optimizer = tf.keras.optimizers.Adam(learning_rate=learning_rate)\n",
    "    elif opt == 'rmsprop':\n",
    "        optimizer = tf.keras.optimizers.RMSprop(learning_rate=learning_rate)\n",
    "\n",
    "\n",
    "    model.compile(\n",
    "        optimizer=optimizer,\n",
    "        loss='binary_crossentropy',\n",
    "        metrics=[\n",
    "            tf.keras.metrics.BinaryAccuracy(name='accuracy'),\n",
    "            tf.keras.metrics.Precision(name='precision'),\n",
    "            tf.keras.metrics.Recall(name='recall'),\n",
    "            tf.keras.metrics.AUC(name='auc')\n",
    "        ]\n",
    "    )\n",
    "    return model\n"
   ]
  },
  {
   "cell_type": "markdown",
   "id": "afbaf51a-a9a9-4c09-b7de-1ac507d6fec0",
   "metadata": {},
   "source": [
    "### NU MOETEN WE VALIDATIESET EN TRAINING SET OPTELLEN BIJ ELKAAR EN DA ALS 1 SET GEBRUIKEN ALS TRAINING SET EN DAN OP TEST SET HET CONTROLEREN"
   ]
  },
  {
   "cell_type": "code",
   "execution_count": null,
   "id": "3309c500-a3bb-40e6-850a-1fc217cac2cc",
   "metadata": {},
   "outputs": [],
   "source": [
    "import itertools\n",
    "import pandas as pd\n",
    "\n",
    "# Define hyperparameter ranges\n",
    "dropout1_list = [0.1, 0.3]\n",
    "dropout2_list = [0.2, 0.4]\n",
    "learning_rates = [0.001, 0.0005]\n",
    "filters_list = [(16, 32, 64), (8, 16, 32)]\n",
    "optimizers = ['adam', 'rmsprop']\n",
    "\n",
    "# To store results\n",
    "results = []\n",
    "\n",
    "# Loop over all combinations\n",
    "for d1, d2, lr, opt, filt in itertools.product(dropout1_list, dropout2_list, learning_rates, optimizers, filters_list):\n",
    "    print(f\"\\nTraining with d1={d1}, d2={d2}, lr={lr}, opt={opt}, filters={filt}\")\n",
    "    \n",
    "    model = build_model(\n",
    "        opt,\n",
    "        filters=filt,\n",
    "        dropout1=d1,\n",
    "        dropout2=d2,\n",
    "        dropout3=0.5,\n",
    "        learning_rate=lr\n",
    "    )\n",
    "\n",
    "    early_stop = tf.keras.callbacks.EarlyStopping(monitor='val_loss', patience=3, restore_best_weights=True)\n",
    "\n",
    "    history = model.fit(\n",
    "        train_data_gen_aug,\n",
    "        validation_data=val_data_gen \n",
    "        epochs=30,\n",
    "        batch_size= batch_size,\n",
    "        callbacks=[early_stop],\n",
    "        verbose=1)\n",
    "\n",
    "    # Save last epoch metrics\n",
    "    last_epoch = -1\n",
    "    results.append({\n",
    "    'dropout1': d1,\n",
    "    'dropout2': d2,\n",
    "    'dropout3': 0.5,\n",
    "    'learning_rate': lr,\n",
    "    'batch_size': batch_size,\n",
    "    'filters': filt,\n",
    "    'optimizer': opt, \n",
    "    'val_accuracy': history.history['val_accuracy'][last_epoch],\n",
    "    'val_precision': history.history['val_precision'][last_epoch],\n",
    "    'val_recall': history.history['val_recall'][last_epoch],\n",
    "    'val_auc': history.history['val_auc'][last_epoch]\n",
    "})\n",
    "\n",
    "\n",
    "# Save to CSV\n",
    "df = pd.DataFrame(results)\n",
    "df.to_csv(\"grid_search_hyperparams_results2.0.csv\", index=False)\n"
   ]
  },
  {
   "cell_type": "markdown",
   "id": "67da2721-e989-4fd3-828c-3d6289ad76fd",
   "metadata": {},
   "source": [
    "## 5) final baseline model (with validation set) "
   ]
  },
  {
   "cell_type": "code",
   "execution_count": null,
   "id": "43b01a88-1627-439e-a204-9c1e591f3e95",
   "metadata": {},
   "outputs": [],
   "source": [
    "model_final = build_model(\n",
    "        'adam',\n",
    "        filters=(8, 16, 32),\n",
    "        dropout1=0.1,\n",
    "        dropout2=0.2,\n",
    "        dropout3=0.5,\n",
    "        learning_rate= 0.0005\n",
    "    )\n"
   ]
  },
  {
   "cell_type": "code",
   "execution_count": null,
   "id": "eddbddd2-450c-4111-8e7e-75e0a1f17a7e",
   "metadata": {},
   "outputs": [],
   "source": [
    "early_stop = tf.keras.callbacks.EarlyStopping(monitor='val_loss', patience=5, restore_best_weights=True)\n",
    "\n",
    "history_final = model_final.fit(\n",
    "        train_data_gen_aug,\n",
    "        validation_data=val_data_gen, #including validation dataset \n",
    "        epochs=30,\n",
    "        batch_size= batch_size,\n",
    "        callbacks=[early_stop],\n",
    "        verbose=1)"
   ]
  },
  {
   "cell_type": "code",
   "execution_count": null,
   "id": "d8587222-86f6-48fa-b49c-672379bb2b55",
   "metadata": {},
   "outputs": [],
   "source": [
    "# List of metrics to plot\n",
    "metrics_to_plot = ['accuracy', 'precision', 'recall', 'auc']\n",
    "\n",
    "plt.figure(figsize=(14, 10))\n",
    "\n",
    "for i, metric in enumerate(metrics_to_plot):\n",
    "    plt.subplot(2, 2, i + 1)\n",
    "    plt.plot(history_final.history[metric], label=f'Train {metric}')\n",
    "    #plt.plot(history_final.history[f'val_{metric}'], label=f'Val {metric}')\n",
    "    plt.title(f'{metric.capitalize()} over Epochs')\n",
    "    plt.xlabel('Epoch')\n",
    "    plt.ylabel(metric.capitalize())\n",
    "    plt.legend()\n",
    "    plt.grid(True)\n",
    "\n",
    "plt.tight_layout()\n",
    "plt.show()\n"
   ]
  },
  {
   "cell_type": "code",
   "execution_count": null,
   "id": "709e9b98-fed5-410a-8adf-850901d1a58e",
   "metadata": {},
   "outputs": [],
   "source": [
    "from tensorflow.keras.models import load_model\n",
    "model_final.save(\"final_model.h5\")\n",
    "baselinemodel = load_model(\"final_model.h5\")"
   ]
  },
  {
   "cell_type": "code",
   "execution_count": null,
   "id": "fc34c69c-d385-4863-aeb3-237dd3a8aabe",
   "metadata": {},
   "outputs": [],
   "source": [
    "from tensorflow.keras.preprocessing import image_dataset_from_directory\n",
    "test_data = image_dataset_from_directory(\n",
    "    test_dir,\n",
    "    labels='inferred',\n",
    "    label_mode='int',\n",
    "    image_size=(img_height, img_width),\n",
    "    batch_size=batch_size\n",
    ").map(lambda x, y: (custom_preprocessing(x), y))\n",
    "\n",
    "true_labels = []\n",
    "predicted_labels = []\n",
    "\n",
    "for images, labels in test_data:\n",
    "    predictions = (baselinemodel.predict(images) > 0.5).astype(\"int32\").flatten()\n",
    "    true_labels.extend(labels.numpy())\n",
    "    predicted_labels.extend(predictions)\n",
    "\n",
    "# Confusion Matrix\n",
    "cm = confusion_matrix(true_labels, predicted_labels)\n",
    "ConfusionMatrixDisplay(cm).plot()"
   ]
  },
  {
   "cell_type": "code",
   "execution_count": null,
   "id": "cbb9ae34-5475-4a3a-b83f-f671e7db0c4b",
   "metadata": {},
   "outputs": [],
   "source": [
    "print("
   ]
  },
  {
   "cell_type": "code",
   "execution_count": null,
   "id": "3ed3ae5d-521f-47d0-ad35-da54cebc30b7",
   "metadata": {},
   "outputs": [],
   "source": []
  }
 ],
 "metadata": {
  "kernelspec": {
   "display_name": "Python 3 (ipykernel)",
   "language": "python",
   "name": "python3"
  },
  "language_info": {
   "codemirror_mode": {
    "name": "ipython",
    "version": 3
   },
   "file_extension": ".py",
   "mimetype": "text/x-python",
   "name": "python",
   "nbconvert_exporter": "python",
   "pygments_lexer": "ipython3",
   "version": "3.12.9"
  }
 },
 "nbformat": 4,
 "nbformat_minor": 5
}
