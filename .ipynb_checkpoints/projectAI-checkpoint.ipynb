{
 "cells": [
  {
   "cell_type": "markdown",
   "id": "2c07b654-e569-4bbb-9351-cbd748ec50ee",
   "metadata": {},
   "source": [
    "## 1. Pre-processing and data exploration"
   ]
  },
  {
   "cell_type": "code",
   "execution_count": 10,
   "id": "3cf81b7f-5a41-43d2-96b0-c5b9832d77a6",
   "metadata": {},
   "outputs": [
    {
     "name": "stdout",
     "output_type": "stream",
     "text": [
      "numpy: 2.1.3\n",
      "tensorflow: 2.19.0\n",
      "scikit-learn: 1.6.1\n",
      "pandas: 2.2.3\n",
      "matplotlib: 3.10.1\n",
      "seaborn: 0.13.2\n",
      "imbalanced-learn: 0.13.0\n",
      "pyaml: 6.0.2\n",
      "Requirement already satisfied: pyaml==25.1.0 in c:\\users\\26930\\appdata\\local\\anaconda3\\envs\\ai\\lib\\site-packages (25.1.0)\n",
      "Requirement already satisfied: PyYAML in c:\\users\\26930\\appdata\\local\\anaconda3\\envs\\ai\\lib\\site-packages (from pyaml==25.1.0) (6.0.2)\n"
     ]
    }
   ],
   "source": [
    "import numpy as np\n",
    "import tensorflow\n",
    "from tensorflow import keras\n",
    "import sklearn\n",
    "import pandas as pd\n",
    "import matplotlib as plt\n",
    "import seaborn\n",
    "import imblearn\n",
    "import yaml\n",
    "\n",
    "print(\"numpy:\", numpy.__version__)\n",
    "print(\"tensorflow:\", tensorflow.__version__)\n",
    "print(\"scikit-learn:\", sklearn.__version__)\n",
    "print(\"pandas:\", pandas.__version__)\n",
    "print(\"matplotlib:\", matplotlib.__version__)\n",
    "print(\"seaborn:\", seaborn.__version__)\n",
    "print(\"imbalanced-learn:\", imblearn.__version__)\n",
    "print(\"pyaml:\", yaml.__version__)\n",
    "\n",
    "!pip install pyaml==25.1.0"
   ]
  },
  {
   "cell_type": "code",
   "execution_count": null,
   "id": "af16c307-ac32-4453-8345-5b4796ebc40f",
   "metadata": {},
   "outputs": [],
   "source": []
  },
  {
   "cell_type": "markdown",
   "id": "e8274fda-38aa-4c82-afeb-088f2f5bd771",
   "metadata": {},
   "source": [
    "## 2. Developing baseline model"
   ]
  },
  {
   "cell_type": "code",
   "execution_count": null,
   "id": "ee623313-6fcd-4a20-96d9-bd3e5ee8f9d7",
   "metadata": {},
   "outputs": [],
   "source": []
  },
  {
   "cell_type": "markdown",
   "id": "0f700eac-0b2c-420a-8a83-518b291eb13d",
   "metadata": {},
   "source": [
    "## 3. Fine-tuning a pre-trained model"
   ]
  },
  {
   "cell_type": "code",
   "execution_count": null,
   "id": "0d3dff79-c384-45e9-81e6-545c8a7a28fe",
   "metadata": {},
   "outputs": [],
   "source": []
  },
  {
   "cell_type": "markdown",
   "id": "f3229916-493c-4663-981f-ee77e6f66407",
   "metadata": {},
   "source": [
    "## 4. Evaluating and describing models' performance and behaviour"
   ]
  },
  {
   "cell_type": "code",
   "execution_count": 1,
   "id": "33d1ab74-34b5-4075-b07d-ec551088961b",
   "metadata": {},
   "outputs": [
    {
     "name": "stdout",
     "output_type": "stream",
     "text": [
      "test123\n"
     ]
    }
   ],
   "source": [
    "print('test123')"
   ]
  },
  {
   "cell_type": "code",
   "execution_count": null,
   "id": "ed36943b-d9af-4ab9-b9a0-a34fcb748960",
   "metadata": {},
   "outputs": [],
   "source": []
  }
 ],
 "metadata": {
  "kernelspec": {
   "display_name": "Python [conda env:AI]",
   "language": "python",
   "name": "conda-env-AI-py"
  },
  "language_info": {
   "codemirror_mode": {
    "name": "ipython",
    "version": 3
   },
   "file_extension": ".py",
   "mimetype": "text/x-python",
   "name": "python",
   "nbconvert_exporter": "python",
   "pygments_lexer": "ipython3",
   "version": "3.12.9"
  }
 },
 "nbformat": 4,
 "nbformat_minor": 5
}
